{
 "cells": [
  {
   "cell_type": "markdown",
   "id": "4b99cc8a",
   "metadata": {},
   "source": [
    "# Universal Sentence Encoder on Amazon Reviews"
   ]
  },
  {
   "cell_type": "markdown",
   "id": "b2a90d90",
   "metadata": {},
   "source": [
    "## Set Up Environment"
   ]
  },
  {
   "cell_type": "code",
   "execution_count": 1,
   "id": "36bdbd58",
   "metadata": {},
   "outputs": [
    {
     "name": "stdout",
     "output_type": "stream",
     "text": [
      "3.7.10\n"
     ]
    }
   ],
   "source": [
    "from platform import python_version\n",
    "print(python_version())"
   ]
  },
  {
   "cell_type": "markdown",
   "id": "97159a02",
   "metadata": {},
   "source": [
    "#### Load Libraries"
   ]
  },
  {
   "cell_type": "code",
   "execution_count": 2,
   "id": "c4cfa660",
   "metadata": {},
   "outputs": [],
   "source": [
    "import pandas as pd\n",
    "import numpy as np\n",
    "import tensorflow as tf\n",
    "import keras\n",
    "from keras import layers, Sequential\n",
    "from tensorflow.keras.layers import Dense\n",
    "from tensorflow.keras.models import load_model\n",
    "import tensorflow_hub as hub\n",
    "import tensorflow_text\n",
    "from sklearn.preprocessing import OneHotEncoder\n",
    "from sklearn.model_selection import train_test_split"
   ]
  },
  {
   "cell_type": "markdown",
   "id": "46573a2e",
   "metadata": {},
   "source": [
    "#### Load Universal Sentence Encoder"
   ]
  },
  {
   "cell_type": "code",
   "execution_count": 3,
   "id": "b57a3549",
   "metadata": {},
   "outputs": [],
   "source": [
    "USE = hub.load(\"https://tfhub.dev/google/universal-sentence-encoder-multilingual-large/3\")"
   ]
  },
  {
   "cell_type": "markdown",
   "id": "1b740214",
   "metadata": {},
   "source": [
    "## Data Extraction"
   ]
  },
  {
   "cell_type": "code",
   "execution_count": 4,
   "id": "3491d9ed",
   "metadata": {},
   "outputs": [
    {
     "name": "stdout",
     "output_type": "stream",
     "text": [
      "Amazon Raw Data Shape: (1000, 2)\n"
     ]
    }
   ],
   "source": [
    "URL = 'C:/Users/tedda/Desktop/Data Science Portfolio/Machine Learning/Sentiment Analysis/USE Sentiment Analysis on Amazon Reviews/Raw Datasets/amazon_cells_labelled.txt'\n",
    "amazon_data = pd.read_csv(URL, delimiter = '\\t', names = ['Review','Review_Type'])\n",
    "print('Amazon Raw Data Shape:', amazon_data.shape)"
   ]
  },
  {
   "cell_type": "markdown",
   "id": "30f165c2",
   "metadata": {},
   "source": [
    "## Data Preparation"
   ]
  },
  {
   "cell_type": "markdown",
   "id": "0758307b",
   "metadata": {},
   "source": [
    "#### One Hot Encode the Review Labels"
   ]
  },
  {
   "cell_type": "code",
   "execution_count": 5,
   "id": "a38d908e",
   "metadata": {},
   "outputs": [],
   "source": [
    "onehot = OneHotEncoder(sparse=False).fit_transform(amazon_data['Review_Type'].to_numpy().reshape(-1,1))"
   ]
  },
  {
   "cell_type": "code",
   "execution_count": 6,
   "id": "1964c641",
   "metadata": {},
   "outputs": [
    {
     "data": {
      "text/plain": [
       "array([[1., 0.],\n",
       "       [0., 1.],\n",
       "       [0., 1.],\n",
       "       ...,\n",
       "       [1., 0.],\n",
       "       [1., 0.],\n",
       "       [1., 0.]])"
      ]
     },
     "execution_count": 6,
     "metadata": {},
     "output_type": "execute_result"
    }
   ],
   "source": [
    "onehot"
   ]
  },
  {
   "cell_type": "markdown",
   "id": "bf6c0b12",
   "metadata": {},
   "source": [
    "#### Split data into Training and Testing sets (80%, 20%)"
   ]
  },
  {
   "cell_type": "code",
   "execution_count": 7,
   "id": "7930dbf5",
   "metadata": {},
   "outputs": [],
   "source": [
    "x_train, x_test, y_train, y_test = train_test_split(amazon_data['Review'], onehot, test_size = 0.2, random_state = 1234)"
   ]
  },
  {
   "cell_type": "markdown",
   "id": "f26b6441",
   "metadata": {},
   "source": [
    "#### USE the Reviews' Text (X)"
   ]
  },
  {
   "cell_type": "code",
   "execution_count": 8,
   "id": "b5694b6d",
   "metadata": {},
   "outputs": [],
   "source": [
    "X_train = []\n",
    "for review in x_train:\n",
    "    embedded = USE(review)\n",
    "    reviews_embedded = tf.reshape(embedded, [-1]).numpy()\n",
    "    X_train.append(reviews_embedded)\n",
    "\n",
    "X_train = np.array(X_train)"
   ]
  },
  {
   "cell_type": "code",
   "execution_count": 9,
   "id": "4f3528d7",
   "metadata": {},
   "outputs": [
    {
     "data": {
      "text/plain": [
       "(800, 512)"
      ]
     },
     "execution_count": 9,
     "metadata": {},
     "output_type": "execute_result"
    }
   ],
   "source": [
    "X_train.shape"
   ]
  },
  {
   "cell_type": "code",
   "execution_count": 10,
   "id": "8aed37c0",
   "metadata": {},
   "outputs": [],
   "source": [
    "X_test = []\n",
    "for review in x_test:\n",
    "    embedded = USE(review)\n",
    "    reviews_embedded = tf.reshape(embedded, [-1]).numpy()\n",
    "    X_test.append(reviews_embedded)\n",
    "\n",
    "X_test = np.array(X_test)"
   ]
  },
  {
   "cell_type": "code",
   "execution_count": 11,
   "id": "0cf24fad",
   "metadata": {},
   "outputs": [
    {
     "data": {
      "text/plain": [
       "(200, 512)"
      ]
     },
     "execution_count": 11,
     "metadata": {},
     "output_type": "execute_result"
    }
   ],
   "source": [
    "X_test.shape"
   ]
  },
  {
   "cell_type": "markdown",
   "id": "e800080c",
   "metadata": {},
   "source": [
    "#### Export Cleansed Datasets"
   ]
  },
  {
   "cell_type": "code",
   "execution_count": 12,
   "id": "07154c60",
   "metadata": {},
   "outputs": [],
   "source": [
    "pd.DataFrame(X_train).to_csv('C:/Users/tedda/Desktop/Data Science Portfolio/Machine Learning/Sentiment Analysis/USE Sentiment Analysis on Amazon Reviews/Cleansed Datasets/X_train dataset.csv')\n",
    "pd.DataFrame(X_test).to_csv('C:/Users/tedda/Desktop/Data Science Portfolio/Machine Learning/Sentiment Analysis/USE Sentiment Analysis on Amazon Reviews/Cleansed Datasets/X_test dataset.csv')\n",
    "pd.DataFrame(y_train).to_csv('C:/Users/tedda/Desktop/Data Science Portfolio/Machine Learning/Sentiment Analysis/USE Sentiment Analysis on Amazon Reviews/Cleansed Datasets/y_train dataset.csv')\n",
    "pd.DataFrame(y_test).to_csv('C:/Users/tedda/Desktop/Data Science Portfolio/Machine Learning/Sentiment Analysis/USE Sentiment Analysis on Amazon Reviews/Cleansed Datasets/y_test dataset.csv')"
   ]
  },
  {
   "cell_type": "markdown",
   "id": "6003ccf7",
   "metadata": {},
   "source": [
    "## Build the Model"
   ]
  },
  {
   "cell_type": "code",
   "execution_count": 13,
   "id": "a2aec520",
   "metadata": {},
   "outputs": [
    {
     "name": "stdout",
     "output_type": "stream",
     "text": [
      "Model: \"sequential\"\n",
      "_________________________________________________________________\n",
      "Layer (type)                 Output Shape              Param #   \n",
      "=================================================================\n",
      "dense (Dense)                (None, 256)               131328    \n",
      "_________________________________________________________________\n",
      "dropout (Dropout)            (None, 256)               0         \n",
      "_________________________________________________________________\n",
      "dense_1 (Dense)              (None, 128)               32896     \n",
      "_________________________________________________________________\n",
      "dropout_1 (Dropout)          (None, 128)               0         \n",
      "_________________________________________________________________\n",
      "dense_2 (Dense)              (None, 2)                 258       \n",
      "=================================================================\n",
      "Total params: 164,482\n",
      "Trainable params: 164,482\n",
      "Non-trainable params: 0\n",
      "_________________________________________________________________\n"
     ]
    }
   ],
   "source": [
    "model = keras.Sequential()\n",
    "\n",
    "model.add(keras.layers.Dense(256, input_shape=(X_train.shape[1], ), activation = 'relu'))\n",
    "\n",
    "model.add(keras.layers.Dropout(rate=0.5))\n",
    "\n",
    "model.add(keras.layers.Dense(128, activation = 'relu'))\n",
    "\n",
    "model.add(keras.layers.Dropout(rate=0.5))\n",
    "\n",
    "model.add(keras.layers.Dense(2, activation = 'softmax'))\n",
    "\n",
    "model.compile(loss='categorical_crossentropy', optimizer = 'adam', metrics = ['accuracy'])\n",
    "\n",
    "model.summary()"
   ]
  },
  {
   "cell_type": "markdown",
   "id": "bb494a91",
   "metadata": {},
   "source": [
    "#### Train the Model"
   ]
  },
  {
   "cell_type": "code",
   "execution_count": 14,
   "id": "9648a2fe",
   "metadata": {},
   "outputs": [
    {
     "name": "stdout",
     "output_type": "stream",
     "text": [
      "Epoch 1/4\n",
      "32/32 [==============================] - 40s 36ms/step - loss: 0.6711 - accuracy: 0.6349 - val_loss: 0.5480 - val_accuracy: 0.8125\n",
      "Epoch 2/4\n",
      "32/32 [==============================] - ETA: 0s - loss: 0.4438 - accuracy: 0.88 - 0s 6ms/step - loss: 0.4337 - accuracy: 0.8861 - val_loss: 0.3684 - val_accuracy: 0.8625\n",
      "Epoch 3/4\n",
      "32/32 [==============================] - 0s 6ms/step - loss: 0.2444 - accuracy: 0.9297 - val_loss: 0.3626 - val_accuracy: 0.8687\n",
      "Epoch 4/4\n",
      "32/32 [==============================] - 0s 6ms/step - loss: 0.1853 - accuracy: 0.9414 - val_loss: 0.3911 - val_accuracy: 0.8438\n"
     ]
    },
    {
     "data": {
      "text/plain": [
       "<keras.callbacks.History at 0x265f3f1b4c8>"
      ]
     },
     "execution_count": 14,
     "metadata": {},
     "output_type": "execute_result"
    }
   ],
   "source": [
    "model.fit(X_train, y_train, epochs = 4, batch_size = 20, validation_split = 0.2, verbose = 1)"
   ]
  },
  {
   "cell_type": "markdown",
   "id": "8918eba1",
   "metadata": {},
   "source": [
    "#### Save and Load the Model"
   ]
  },
  {
   "cell_type": "code",
   "execution_count": 15,
   "id": "41d10a42",
   "metadata": {},
   "outputs": [],
   "source": [
    "model_url = 'C:/Users/tedda/Desktop/Data Science Portfolio/Machine Learning/Sentiment Analysis/USE Sentiment Analysis on Amazon Reviews/Exported Models/USESentimentAnalysisModel.h5'\n",
    "model.save(model_url)\n",
    "SA_model = load_model(model_url)"
   ]
  },
  {
   "cell_type": "markdown",
   "id": "bc03bfdf",
   "metadata": {},
   "source": [
    "## Evaluate the Model's Accuracy"
   ]
  },
  {
   "cell_type": "code",
   "execution_count": 16,
   "id": "ca831cf4",
   "metadata": {},
   "outputs": [
    {
     "name": "stdout",
     "output_type": "stream",
     "text": [
      "7/7 [==============================] - 1s 4ms/step - loss: 0.1862 - accuracy: 0.9250\n"
     ]
    },
    {
     "data": {
      "text/plain": [
       "[0.18624836206436157, 0.925000011920929]"
      ]
     },
     "execution_count": 16,
     "metadata": {},
     "output_type": "execute_result"
    }
   ],
   "source": [
    "SA_model.evaluate(X_test, y_test)"
   ]
  }
 ],
 "metadata": {
  "kernelspec": {
   "display_name": "Python 3",
   "language": "python",
   "name": "python3"
  },
  "language_info": {
   "codemirror_mode": {
    "name": "ipython",
    "version": 3
   },
   "file_extension": ".py",
   "mimetype": "text/x-python",
   "name": "python",
   "nbconvert_exporter": "python",
   "pygments_lexer": "ipython3",
   "version": "3.7.10"
  }
 },
 "nbformat": 4,
 "nbformat_minor": 5
}
